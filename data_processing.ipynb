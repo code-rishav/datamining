{
 "cells": [
  {
   "cell_type": "code",
   "execution_count": 2,
   "metadata": {},
   "outputs": [],
   "source": [
    "import re\n",
    "import pandas as pd\n",
    "import numpy as np"
   ]
  },
  {
   "cell_type": "code",
   "execution_count": 3,
   "metadata": {},
   "outputs": [],
   "source": []
  },
  {
   "cell_type": "code",
   "execution_count": 3,
   "metadata": {},
   "outputs": [
    {
     "data": {
      "text/html": [
       "<div>\n",
       "<style scoped>\n",
       "    .dataframe tbody tr th:only-of-type {\n",
       "        vertical-align: middle;\n",
       "    }\n",
       "\n",
       "    .dataframe tbody tr th {\n",
       "        vertical-align: top;\n",
       "    }\n",
       "\n",
       "    .dataframe thead th {\n",
       "        text-align: right;\n",
       "    }\n",
       "</style>\n",
       "<table border=\"1\" class=\"dataframe\">\n",
       "  <thead>\n",
       "    <tr style=\"text-align: right;\">\n",
       "      <th></th>\n",
       "      <th>title</th>\n",
       "      <th>body</th>\n",
       "      <th>tags</th>\n",
       "    </tr>\n",
       "  </thead>\n",
       "  <tbody>\n",
       "    <tr>\n",
       "      <th>0</th>\n",
       "      <td>NaN</td>\n",
       "      <td>&lt;p&gt;Should anyone else be starting from scratch...</td>\n",
       "      <td>NaN</td>\n",
       "    </tr>\n",
       "    <tr>\n",
       "      <th>1</th>\n",
       "      <td>NaN</td>\n",
       "      <td>&lt;p&gt;In this example I am reading a &lt;code&gt;Range....</td>\n",
       "      <td>NaN</td>\n",
       "    </tr>\n",
       "    <tr>\n",
       "      <th>2</th>\n",
       "      <td>NaN</td>\n",
       "      <td>&lt;p&gt;I'd suggest 3 improvements: &lt;/p&gt; &lt;ol&gt; &lt;li&gt;&lt;...</td>\n",
       "      <td>NaN</td>\n",
       "    </tr>\n",
       "    <tr>\n",
       "      <th>3</th>\n",
       "      <td>NaN</td>\n",
       "      <td>&lt;p&gt;So it's originating from Brasil the questio...</td>\n",
       "      <td>NaN</td>\n",
       "    </tr>\n",
       "    <tr>\n",
       "      <th>4</th>\n",
       "      <td>NaN</td>\n",
       "      <td>&lt;p&gt;You are using Windows which means you are (...</td>\n",
       "      <td>NaN</td>\n",
       "    </tr>\n",
       "    <tr>\n",
       "      <th>...</th>\n",
       "      <td>...</td>\n",
       "      <td>...</td>\n",
       "      <td>...</td>\n",
       "    </tr>\n",
       "    <tr>\n",
       "      <th>8896</th>\n",
       "      <td>NaN</td>\n",
       "      <td>&lt;p&gt;Change the path inside your &lt;code&gt;SITE_PATH...</td>\n",
       "      <td>NaN</td>\n",
       "    </tr>\n",
       "    <tr>\n",
       "      <th>8897</th>\n",
       "      <td>NaN</td>\n",
       "      <td>&lt;p&gt;you don't need to do all that fancy stuff c...</td>\n",
       "      <td>NaN</td>\n",
       "    </tr>\n",
       "    <tr>\n",
       "      <th>8898</th>\n",
       "      <td>NaN</td>\n",
       "      <td>&lt;p&gt;For &lt;code&gt;platforms&lt;/code&gt; you only need wh...</td>\n",
       "      <td>NaN</td>\n",
       "    </tr>\n",
       "    <tr>\n",
       "      <th>8899</th>\n",
       "      <td>VIM: How does CtrlP work</td>\n",
       "      <td>&lt;p&gt;I'm using Vim with CtrlP plugin. When I ope...</td>\n",
       "      <td>vim</td>\n",
       "    </tr>\n",
       "    <tr>\n",
       "      <th>8900</th>\n",
       "      <td>How do I determine column number using itext 7</td>\n",
       "      <td>&lt;p&gt;I have created documents using itext 7 and ...</td>\n",
       "      <td>itext</td>\n",
       "    </tr>\n",
       "  </tbody>\n",
       "</table>\n",
       "<p>8901 rows × 3 columns</p>\n",
       "</div>"
      ],
      "text/plain": [
       "                                               title  \\\n",
       "0                                                NaN   \n",
       "1                                                NaN   \n",
       "2                                                NaN   \n",
       "3                                                NaN   \n",
       "4                                                NaN   \n",
       "...                                              ...   \n",
       "8896                                             NaN   \n",
       "8897                                             NaN   \n",
       "8898                                             NaN   \n",
       "8899                        VIM: How does CtrlP work   \n",
       "8900  How do I determine column number using itext 7   \n",
       "\n",
       "                                                   body   tags  \n",
       "0     <p>Should anyone else be starting from scratch...    NaN  \n",
       "1     <p>In this example I am reading a <code>Range....    NaN  \n",
       "2     <p>I'd suggest 3 improvements: </p> <ol> <li><...    NaN  \n",
       "3     <p>So it's originating from Brasil the questio...    NaN  \n",
       "4     <p>You are using Windows which means you are (...    NaN  \n",
       "...                                                 ...    ...  \n",
       "8896  <p>Change the path inside your <code>SITE_PATH...    NaN  \n",
       "8897  <p>you don't need to do all that fancy stuff c...    NaN  \n",
       "8898  <p>For <code>platforms</code> you only need wh...    NaN  \n",
       "8899  <p>I'm using Vim with CtrlP plugin. When I ope...    vim  \n",
       "8900  <p>I have created documents using itext 7 and ...  itext  \n",
       "\n",
       "[8901 rows x 3 columns]"
      ]
     },
     "execution_count": 3,
     "metadata": {},
     "output_type": "execute_result"
    }
   ],
   "source": []
  },
  {
   "cell_type": "code",
   "execution_count": 37,
   "metadata": {},
   "outputs": [
    {
     "ename": "TypeError",
     "evalue": "Series.dropna() got an unexpected keyword argument 'subset'",
     "output_type": "error",
     "traceback": [
      "\u001b[0;31m---------------------------------------------------------------------------\u001b[0m",
      "\u001b[0;31mTypeError\u001b[0m                                 Traceback (most recent call last)",
      "Cell \u001b[0;32mIn[37], line 1\u001b[0m\n\u001b[0;32m----> 1\u001b[0m data \u001b[38;5;241m=\u001b[39m \u001b[43mdata\u001b[49m\u001b[38;5;241;43m.\u001b[39;49m\u001b[43mdropna\u001b[49m\u001b[43m(\u001b[49m\u001b[43msubset\u001b[49m\u001b[38;5;241;43m=\u001b[39;49m\u001b[43m[\u001b[49m\u001b[38;5;124;43m'\u001b[39;49m\u001b[38;5;124;43mtitle\u001b[39;49m\u001b[38;5;124;43m'\u001b[39;49m\u001b[43m]\u001b[49m\u001b[43m)\u001b[49m\n",
      "\u001b[0;31mTypeError\u001b[0m: Series.dropna() got an unexpected keyword argument 'subset'"
     ]
    }
   ],
   "source": []
  },
  {
   "cell_type": "code",
   "execution_count": 38,
   "metadata": {},
   "outputs": [
    {
     "data": {
      "text/plain": [
       "92      [Does, anyone, happen, to, have, Facebook, mat...\n",
       "93      [I, often, write, markdown-style, documents, f...\n",
       "94      [I'm, creating, a, android, application, and, ...\n",
       "95      [how, to, display, all, elements, of, my, RDD,...\n",
       "96      [I, have, Android, app., I, have, layout, layo...\n",
       "                              ...                        \n",
       "8883    [My, function, under, test, is, very, simple:,...\n",
       "8884    [Okay, so, I, this, have, this, query, and, it...\n",
       "8885    [I, have, a, df's, column, with, values, belon...\n",
       "8899    [I'm, using, Vim, with, CtrlP, plugin., When, ...\n",
       "8900    [I, have, created, documents, using, itext, 7,...\n",
       "Name: body, Length: 4281, dtype: object"
      ]
     },
     "execution_count": 38,
     "metadata": {},
     "output_type": "execute_result"
    }
   ],
   "source": []
  },
  {
   "cell_type": "code",
   "execution_count": 33,
   "metadata": {},
   "outputs": [],
   "source": []
  },
  {
   "cell_type": "markdown",
   "metadata": {},
   "source": []
  },
  {
   "cell_type": "code",
   "execution_count": 34,
   "metadata": {},
   "outputs": [
    {
     "data": {
      "text/plain": [
       "92      [Does, anyone, happen, to, have, Facebook, mat...\n",
       "93      [I, often, write, markdown-style, documents, f...\n",
       "94      [I'm, creating, a, android, application, and, ...\n",
       "95      [how, to, display, all, elements, of, my, RDD,...\n",
       "96      [I, have, Android, app., I, have, layout, layo...\n",
       "                              ...                        \n",
       "8883    [My, function, under, test, is, very, simple:,...\n",
       "8884    [Okay, so, I, this, have, this, query, and, it...\n",
       "8885    [I, have, a, df's, column, with, values, belon...\n",
       "8899    [I'm, using, Vim, with, CtrlP, plugin., When, ...\n",
       "8900    [I, have, created, documents, using, itext, 7,...\n",
       "Name: body, Length: 4281, dtype: object"
      ]
     },
     "execution_count": 34,
     "metadata": {},
     "output_type": "execute_result"
    }
   ],
   "source": []
  },
  {
   "cell_type": "code",
   "execution_count": 36,
   "metadata": {},
   "outputs": [
    {
     "data": {
      "text/plain": [
       "['I',\n",
       " 'often',\n",
       " 'write',\n",
       " 'markdown-style',\n",
       " 'documents',\n",
       " 'for',\n",
       " 'GitHub',\n",
       " 'with',\n",
       " 'VS',\n",
       " 'Code.',\n",
       " 'When',\n",
       " 'I',\n",
       " 'preview',\n",
       " 'it',\n",
       " 'it',\n",
       " 'breaks',\n",
       " 'lines',\n",
       " 'only',\n",
       " 'when',\n",
       " 'I',\n",
       " 'place',\n",
       " '2',\n",
       " 'spaces',\n",
       " 'at',\n",
       " 'the',\n",
       " 'end.',\n",
       " 'But',\n",
       " 'is',\n",
       " 'there',\n",
       " 'any',\n",
       " 'way',\n",
       " 'to',\n",
       " 'add',\n",
       " 'a',\n",
       " 'line',\n",
       " 'break',\n",
       " 'with',\n",
       " 'simple',\n",
       " 'return?',\n",
       " 'I',\n",
       " 'know',\n",
       " 'this',\n",
       " 'is',\n",
       " 'not',\n",
       " 'a',\n",
       " 'standard',\n",
       " 'behaviour',\n",
       " 'of',\n",
       " 'traditional',\n",
       " 'markdown',\n",
       " 'but',\n",
       " 'since',\n",
       " 'GitHub',\n",
       " 'supports',\n",
       " 'simple',\n",
       " 'return',\n",
       " 'I',\n",
       " 'also',\n",
       " 'want',\n",
       " 'to',\n",
       " 'have',\n",
       " 'it',\n",
       " 'locally.',\n",
       " '(Otherwise',\n",
       " 'the',\n",
       " 'sentences',\n",
       " 'I',\n",
       " 'see',\n",
       " 'on',\n",
       " 'VS',\n",
       " 'Code',\n",
       " 'preview',\n",
       " 'and',\n",
       " 'GitHub',\n",
       " 'differs',\n",
       " 'a',\n",
       " 'lot...)']"
      ]
     },
     "execution_count": 36,
     "metadata": {},
     "output_type": "execute_result"
    }
   ],
   "source": []
  },
  {
   "cell_type": "code",
   "execution_count": null,
   "metadata": {},
   "outputs": [],
   "source": []
  }
 ],
 "metadata": {
  "kernelspec": {
   "display_name": "env",
   "language": "python",
   "name": "python3"
  },
  "language_info": {
   "codemirror_mode": {
    "name": "ipython",
    "version": 3
   },
   "file_extension": ".py",
   "mimetype": "text/x-python",
   "name": "python",
   "nbconvert_exporter": "python",
   "pygments_lexer": "ipython3",
   "version": "3.12.3"
  }
 },
 "nbformat": 4,
 "nbformat_minor": 2
}
